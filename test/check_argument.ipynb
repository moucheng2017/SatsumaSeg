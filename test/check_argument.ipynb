{
 "cells": [
  {
   "cell_type": "code",
   "execution_count": 1,
   "metadata": {},
   "outputs": [],
   "source": [
    "# This is to test args and kargs and other variable lengths of inputs"
   ]
  },
  {
   "cell_type": "code",
   "execution_count": 2,
   "metadata": {},
   "outputs": [],
   "source": [
    "import torch\n",
    "import torch.nn as nn"
   ]
  },
  {
   "cell_type": "code",
   "execution_count": 3,
   "metadata": {},
   "outputs": [],
   "source": [
    "def check_dim(input_tensor):\n",
    "    '''\n",
    "    Args:\n",
    "        input_tensor:\n",
    "    Returns:\n",
    "    '''\n",
    "    if len(input_tensor.size()) < 4:\n",
    "        return input_tensor.unsqueeze(1)\n",
    "    else:\n",
    "        return input_tensor\n",
    "\n",
    "\n",
    "def check_inputs(img_l,\n",
    "                 lbl,\n",
    "                 *img_u):\n",
    "    '''\n",
    "    Args:\n",
    "        img_l:\n",
    "        lbl:\n",
    "        lung:\n",
    "        img_u:\n",
    "    Returns:\n",
    "    '''\n",
    "    img_l = check_dim(img_l)\n",
    "    lbl = check_dim(lbl)\n",
    "    \n",
    "    if img_u:\n",
    "#         assert len(*img_u) == 1\n",
    "        img_u = check_dim(img_u[0])\n",
    "#         assert len(img_u) == 1\n",
    "        return {'img_l': img_l,\n",
    "                'img_u': img_u,\n",
    "                'lbl': lbl}\n",
    "    else:\n",
    "        return {'img_l': img_l,\n",
    "                'lbl': lbl}"
   ]
  },
  {
   "cell_type": "code",
   "execution_count": 4,
   "metadata": {},
   "outputs": [],
   "source": [
    "def check_inputs_new(**kwargs):\n",
    "    outputs = {}\n",
    "    for key, value in kwargs.items():\n",
    "        outputs[key] = value\n",
    "    return outputs\n",
    "#       outputs.update({key, value})"
   ]
  },
  {
   "cell_type": "code",
   "execution_count": 5,
   "metadata": {},
   "outputs": [
    {
     "name": "stdout",
     "output_type": "stream",
     "text": [
      "torch.Size([3, 5, 10])\n"
     ]
    }
   ],
   "source": [
    "dummy_img_l = torch.arange(3*5*10).reshape(3, 5, 10)\n",
    "dummy_lbl = torch.ones_like(dummy_img_l)\n",
    "dummy_img_u = 5*torch.arange(3*5*10).reshape(3, 5, 10)\n",
    "print(dummy_img_u.size())"
   ]
  },
  {
   "cell_type": "code",
   "execution_count": 6,
   "metadata": {},
   "outputs": [],
   "source": [
    "input_dic_new = check_inputs_new(img_l=dummy_img_l, lbl = dummy_lbl)"
   ]
  },
  {
   "cell_type": "code",
   "execution_count": 7,
   "metadata": {},
   "outputs": [
    {
     "name": "stdout",
     "output_type": "stream",
     "text": [
      "tensor([[[  0,   1,   2,   3,   4,   5,   6,   7,   8,   9],\n",
      "         [ 10,  11,  12,  13,  14,  15,  16,  17,  18,  19],\n",
      "         [ 20,  21,  22,  23,  24,  25,  26,  27,  28,  29],\n",
      "         [ 30,  31,  32,  33,  34,  35,  36,  37,  38,  39],\n",
      "         [ 40,  41,  42,  43,  44,  45,  46,  47,  48,  49]],\n",
      "\n",
      "        [[ 50,  51,  52,  53,  54,  55,  56,  57,  58,  59],\n",
      "         [ 60,  61,  62,  63,  64,  65,  66,  67,  68,  69],\n",
      "         [ 70,  71,  72,  73,  74,  75,  76,  77,  78,  79],\n",
      "         [ 80,  81,  82,  83,  84,  85,  86,  87,  88,  89],\n",
      "         [ 90,  91,  92,  93,  94,  95,  96,  97,  98,  99]],\n",
      "\n",
      "        [[100, 101, 102, 103, 104, 105, 106, 107, 108, 109],\n",
      "         [110, 111, 112, 113, 114, 115, 116, 117, 118, 119],\n",
      "         [120, 121, 122, 123, 124, 125, 126, 127, 128, 129],\n",
      "         [130, 131, 132, 133, 134, 135, 136, 137, 138, 139],\n",
      "         [140, 141, 142, 143, 144, 145, 146, 147, 148, 149]]])\n"
     ]
    }
   ],
   "source": [
    "print(input_dic_new.get('img_l'))"
   ]
  },
  {
   "cell_type": "code",
   "execution_count": 8,
   "metadata": {},
   "outputs": [
    {
     "ename": "NameError",
     "evalue": "name 'input_dict_new' is not defined",
     "output_type": "error",
     "traceback": [
      "\u001b[0;31m---------------------------------------------------------------------------\u001b[0m",
      "\u001b[0;31mNameError\u001b[0m                                 Traceback (most recent call last)",
      "\u001b[0;32m<ipython-input-8-6ca127a0ea42>\u001b[0m in \u001b[0;36m<module>\u001b[0;34m\u001b[0m\n\u001b[0;32m----> 1\u001b[0;31m \u001b[0mprint\u001b[0m\u001b[0;34m(\u001b[0m\u001b[0minput_dict_new\u001b[0m\u001b[0;34m)\u001b[0m\u001b[0;34m\u001b[0m\u001b[0;34m\u001b[0m\u001b[0m\n\u001b[0m",
      "\u001b[0;31mNameError\u001b[0m: name 'input_dict_new' is not defined"
     ]
    }
   ],
   "source": [
    "print(input_dict_new)"
   ]
  },
  {
   "cell_type": "code",
   "execution_count": null,
   "metadata": {},
   "outputs": [],
   "source": [
    "input_dic = check_inputs(dummy_img_l, dummy_lbl)"
   ]
  },
  {
   "cell_type": "code",
   "execution_count": null,
   "metadata": {},
   "outputs": [],
   "source": [
    "input_dic.get('lbl')"
   ]
  },
  {
   "cell_type": "code",
   "execution_count": null,
   "metadata": {},
   "outputs": [],
   "source": [
    "full_input_dic = check_inputs(dummy_img_l, dummy_lbl, dummy_img_u)"
   ]
  },
  {
   "cell_type": "code",
   "execution_count": null,
   "metadata": {},
   "outputs": [],
   "source": [
    "full_input_dic.get('img_u')"
   ]
  },
  {
   "cell_type": "code",
   "execution_count": null,
   "metadata": {},
   "outputs": [],
   "source": [
    "full_input_dic"
   ]
  },
  {
   "cell_type": "code",
   "execution_count": null,
   "metadata": {},
   "outputs": [],
   "source": []
  },
  {
   "cell_type": "code",
   "execution_count": null,
   "metadata": {},
   "outputs": [],
   "source": []
  }
 ],
 "metadata": {
  "kernelspec": {
   "display_name": "Python 3",
   "language": "python",
   "name": "python3"
  },
  "language_info": {
   "codemirror_mode": {
    "name": "ipython",
    "version": 3
   },
   "file_extension": ".py",
   "mimetype": "text/x-python",
   "name": "python",
   "nbconvert_exporter": "python",
   "pygments_lexer": "ipython3",
   "version": "3.7.1"
  }
 },
 "nbformat": 4,
 "nbformat_minor": 5
}
