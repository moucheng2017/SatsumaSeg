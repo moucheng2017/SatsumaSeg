{
 "cells": [
  {
   "cell_type": "code",
   "execution_count": 8,
   "metadata": {},
   "outputs": [],
   "source": [
    "# This is to test args and kargs and other variable lengths of inputs"
   ]
  },
  {
   "cell_type": "code",
   "execution_count": 9,
   "metadata": {},
   "outputs": [],
   "source": [
    "import torch\n",
    "import torch.nn as nn"
   ]
  },
  {
   "cell_type": "code",
   "execution_count": 10,
   "metadata": {},
   "outputs": [],
   "source": [
    "def check_inputs_new(**kwargs):\n",
    "    outputs = {}\n",
    "    for key, value in kwargs.items():\n",
    "        outputs[key] = value\n",
    "    return outputs\n",
    "\n",
    "# def check_inputs_new(**kwargs):\n",
    "#     outputs = {}\n",
    "#     all_keys = kwargs.keys()\n",
    "#     for each_key in all_keys:\n",
    "#         outputs[each_key] = kwargs[each_key]\n",
    "#     return outputs"
   ]
  },
  {
   "cell_type": "code",
   "execution_count": 11,
   "metadata": {},
   "outputs": [],
   "source": [
    "def np2tensor_all_new(**kwargs):\n",
    "    device = torch.device('cuda' if torch.cuda.is_available() else 'cpu')\n",
    "    for k, v in kwargs.items():\n",
    "        v = v.to(device)\n",
    "    return kwargs"
   ]
  },
  {
   "cell_type": "code",
   "execution_count": 12,
   "metadata": {},
   "outputs": [
    {
     "name": "stdout",
     "output_type": "stream",
     "text": [
      "torch.Size([3, 5, 10])\n"
     ]
    }
   ],
   "source": [
    "dummy_img_l = torch.arange(3*5*10).reshape(3, 5, 10)\n",
    "dummy_lbl = torch.ones_like(dummy_img_l)\n",
    "dummy_img_u = 5*torch.arange(3*5*10).reshape(3, 5, 10)\n",
    "print(dummy_img_u.size())"
   ]
  },
  {
   "cell_type": "code",
   "execution_count": 14,
   "metadata": {},
   "outputs": [
    {
     "name": "stdout",
     "output_type": "stream",
     "text": [
      "tensor([[[  0,   5,  10,  15,  20,  25,  30,  35,  40,  45],\n",
      "         [ 50,  55,  60,  65,  70,  75,  80,  85,  90,  95],\n",
      "         [100, 105, 110, 115, 120, 125, 130, 135, 140, 145],\n",
      "         [150, 155, 160, 165, 170, 175, 180, 185, 190, 195],\n",
      "         [200, 205, 210, 215, 220, 225, 230, 235, 240, 245]],\n",
      "\n",
      "        [[250, 255, 260, 265, 270, 275, 280, 285, 290, 295],\n",
      "         [300, 305, 310, 315, 320, 325, 330, 335, 340, 345],\n",
      "         [350, 355, 360, 365, 370, 375, 380, 385, 390, 395],\n",
      "         [400, 405, 410, 415, 420, 425, 430, 435, 440, 445],\n",
      "         [450, 455, 460, 465, 470, 475, 480, 485, 490, 495]],\n",
      "\n",
      "        [[500, 505, 510, 515, 520, 525, 530, 535, 540, 545],\n",
      "         [550, 555, 560, 565, 570, 575, 580, 585, 590, 595],\n",
      "         [600, 605, 610, 615, 620, 625, 630, 635, 640, 645],\n",
      "         [650, 655, 660, 665, 670, 675, 680, 685, 690, 695],\n",
      "         [700, 705, 710, 715, 720, 725, 730, 735, 740, 745]]])\n"
     ]
    }
   ],
   "source": [
    "# input_dic_new = check_inputs_new(img_l=dummy_img_l, \n",
    "#                                  lbl_l=dummy_lbl, \n",
    "#                                  img_u=dummy_img_u)\n",
    "\n",
    "# print(input_dic_new.get('img_u'))\n",
    "\n",
    "\n",
    "input_dic_new = check_inputs_new(**{'img_l':dummy_img_l, \n",
    "                                 'lbl_l':dummy_lbl, \n",
    "                                 'img_u':dummy_img_u})\n",
    "\n",
    "print(input_dic_new.get('img_u'))"
   ]
  },
  {
   "cell_type": "code",
   "execution_count": 42,
   "metadata": {},
   "outputs": [
    {
     "ename": "TypeError",
     "evalue": "np2tensor_all_new() takes 0 positional arguments but 1 was given",
     "output_type": "error",
     "traceback": [
      "\u001b[0;31m---------------------------------------------------------------------------\u001b[0m",
      "\u001b[0;31mTypeError\u001b[0m                                 Traceback (most recent call last)",
      "Input \u001b[0;32mIn [42]\u001b[0m, in \u001b[0;36m<cell line: 1>\u001b[0;34m()\u001b[0m\n\u001b[0;32m----> 1\u001b[0m tensor_input_dic_new \u001b[38;5;241m=\u001b[39m \u001b[43mnp2tensor_all_new\u001b[49m\u001b[43m(\u001b[49m\u001b[43minput_dic_new\u001b[49m\u001b[43m)\u001b[49m\n",
      "\u001b[0;31mTypeError\u001b[0m: np2tensor_all_new() takes 0 positional arguments but 1 was given"
     ]
    }
   ],
   "source": [
    "# tensor_input_dic_new = np2tensor_all_new(input_dic_new)"
   ]
  },
  {
   "cell_type": "code",
   "execution_count": null,
   "metadata": {},
   "outputs": [],
   "source": [
    "# print(tensor_input_dic_new)"
   ]
  },
  {
   "cell_type": "code",
   "execution_count": null,
   "metadata": {},
   "outputs": [],
   "source": [
    "# input_dic = check_inputs(dummy_img_l, dummy_lbl)"
   ]
  },
  {
   "cell_type": "code",
   "execution_count": null,
   "metadata": {},
   "outputs": [],
   "source": [
    "# input_dic.get('lbl')"
   ]
  },
  {
   "cell_type": "code",
   "execution_count": null,
   "metadata": {},
   "outputs": [],
   "source": [
    "# full_input_dic = check_inputs(dummy_img_l, dummy_lbl, dummy_img_u)"
   ]
  },
  {
   "cell_type": "code",
   "execution_count": null,
   "metadata": {},
   "outputs": [],
   "source": [
    "# full_input_dic.get('img_u')"
   ]
  },
  {
   "cell_type": "code",
   "execution_count": null,
   "metadata": {},
   "outputs": [],
   "source": []
  },
  {
   "cell_type": "code",
   "execution_count": null,
   "metadata": {},
   "outputs": [],
   "source": []
  },
  {
   "cell_type": "code",
   "execution_count": null,
   "metadata": {},
   "outputs": [],
   "source": []
  }
 ],
 "metadata": {
  "kernelspec": {
   "display_name": "Python 3",
   "language": "python",
   "name": "python3"
  },
  "language_info": {
   "codemirror_mode": {
    "name": "ipython",
    "version": 3
   },
   "file_extension": ".py",
   "mimetype": "text/x-python",
   "name": "python",
   "nbconvert_exporter": "python",
   "pygments_lexer": "ipython3",
   "version": "3.7.1"
  }
 },
 "nbformat": 4,
 "nbformat_minor": 5
}
