{
 "cells": [
  {
   "cell_type": "code",
   "execution_count": 46,
   "id": "existing-median",
   "metadata": {},
   "outputs": [],
   "source": [
    "import os\n",
    "import sys\n",
    "\n",
    "import matplotlib.pyplot as plt\n",
    "import torch\n",
    "import numpy as np\n",
    "\n",
    "import torch\n",
    "import random\n",
    "\n",
    "import numpy as np\n",
    "import scipy.ndimage\n",
    "\n",
    "import torchvision.transforms as tf\n",
    "\n",
    "sys.path.append('..')\n",
    "\n",
    "import torchvision.transforms.functional as F"
   ]
  },
  {
   "cell_type": "code",
   "execution_count": 47,
   "id": "downtown-gauge",
   "metadata": {},
   "outputs": [
    {
     "name": "stdout",
     "output_type": "stream",
     "text": [
      "(3, 176, 176)\n",
      "(3, 176, 176)\n"
     ]
    }
   ],
   "source": [
    "# read the input image\n",
    "img = '1.2.840.113704.1.111.2604.1126357612.7_1_39_slice.npy'\n",
    "img_path = '/home/moucheng/projects_data/Pulmonary_data/carve/3d_binary/R176/C3/D3_S3/N5/labelled/patches'\n",
    "img_path = os.path.join(img_path, img)\n",
    "image_np = np.load(img_path)\n",
    "print(np.shape(image_np))\n",
    "\n",
    "lbl = '1.2.840.113704.1.111.2604.1126357612.7_1_36_label.npy'\n",
    "lbl_path = '/home/moucheng/projects_data/Pulmonary_data/carve/3d_binary/R176/C3/D3_S3/N5/labelled/labels'\n",
    "lbl_path = os.path.join(lbl_path, lbl)\n",
    "lbl_np = np.load(lbl_path)\n",
    "print(np.shape(lbl_np))\n",
    "\n",
    "# img_tensor = torch.from_numpy(image_np)\n",
    "# print(image_tensor.size())"
   ]
  },
  {
   "cell_type": "code",
   "execution_count": 48,
   "id": "dominican-campaign",
   "metadata": {},
   "outputs": [
    {
     "name": "stdout",
     "output_type": "stream",
     "text": [
      "0.57\n",
      "0.56\n"
     ]
    }
   ],
   "source": [
    "crop_ratio_range_h = [0.4, 0.8]\n",
    "crop_ratio_range_w = [0.5, 0.7]\n",
    "\n",
    "ratio_h = round(random.uniform(crop_ratio_range_h[0], crop_ratio_range_h[1]), 2)\n",
    "ratio_w = round(random.uniform(crop_ratio_range_w[0], crop_ratio_range_w[1]), 2)\n",
    "\n",
    "print(ratio_h)\n",
    "print(ratio_w)\n",
    "\n",
    "crop_upper_bound_h = int((1 - ratio_h)*np.shape(lbl_np)[-2])\n",
    "crop_lower_bound_h = int((1 - ratio_h)*np.shape(lbl_np)[-1])\n",
    "\n",
    "crop_upper_bound_w = int((1 - ratio_w)*np.shape(lbl_np)[-2])\n",
    "crop_lower_bound_w = int((1 - ratio_w)*np.shape(lbl_np)[-1])\n"
   ]
  },
  {
   "cell_type": "code",
   "execution_count": null,
   "id": "appropriate-decline",
   "metadata": {},
   "outputs": [],
   "source": []
  },
  {
   "cell_type": "code",
   "execution_count": null,
   "id": "mental-decision",
   "metadata": {},
   "outputs": [],
   "source": []
  }
 ],
 "metadata": {
  "kernelspec": {
   "display_name": "Python 3 (ipykernel)",
   "language": "python",
   "name": "python3"
  },
  "language_info": {
   "codemirror_mode": {
    "name": "ipython",
    "version": 3
   },
   "file_extension": ".py",
   "mimetype": "text/x-python",
   "name": "python",
   "nbconvert_exporter": "python",
   "pygments_lexer": "ipython3",
   "version": "3.9.10"
  }
 },
 "nbformat": 4,
 "nbformat_minor": 5
}
