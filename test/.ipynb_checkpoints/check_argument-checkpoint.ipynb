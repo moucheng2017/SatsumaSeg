{
 "cells": [
  {
   "cell_type": "code",
   "execution_count": 97,
   "metadata": {},
   "outputs": [],
   "source": [
    "# This is to test args and kargs and other variable lengths of inputs"
   ]
  },
  {
   "cell_type": "code",
   "execution_count": 98,
   "metadata": {},
   "outputs": [],
   "source": [
    "import torch\n",
    "import torch.nn as nn"
   ]
  },
  {
   "cell_type": "code",
   "execution_count": 99,
   "metadata": {},
   "outputs": [],
   "source": [
    "def check_dim(input_tensor):\n",
    "    '''\n",
    "    Args:\n",
    "        input_tensor:\n",
    "    Returns:\n",
    "    '''\n",
    "    if len(input_tensor.size()) < 4:\n",
    "        return input_tensor.unsqueeze(1)\n",
    "    else:\n",
    "        return input_tensor\n",
    "\n",
    "\n",
    "def check_inputs(img_l,\n",
    "                 lbl,\n",
    "                 *img_u):\n",
    "    '''\n",
    "    Args:\n",
    "        img_l:\n",
    "        lbl:\n",
    "        lung:\n",
    "        img_u:\n",
    "    Returns:\n",
    "    '''\n",
    "    img_l = check_dim(img_l)\n",
    "    lbl = check_dim(lbl)\n",
    "    \n",
    "    if img_u:\n",
    "#         assert len(*img_u) == 1\n",
    "        img_u = check_dim(img_u[0])\n",
    "#         assert len(img_u) == 1\n",
    "        return {'img_l': img_l,\n",
    "                'img_u': img_u,\n",
    "                'lbl': lbl}\n",
    "    else:\n",
    "        return {'img_l': img_l,\n",
    "                'lbl': lbl}"
   ]
  },
  {
   "cell_type": "code",
   "execution_count": 100,
   "metadata": {},
   "outputs": [],
   "source": [
    "def check_inputs_new(**kwargs):\n",
    "    outputs = {}\n",
    "    for key, value in kwargs.items():\n",
    "        outputs[key] = value\n",
    "#       outputs.update({key, value})\n",
    "#         outputs.update()\n",
    "#         if key == 'img_l':\n",
    "#             img1 = value\n",
    "#         elif key == 'img_u':\n",
    "#             img2 = value\n",
    "#         elif key == 'label':\n",
    "#             lbl = value\n",
    "        \n",
    "    "
   ]
  },
  {
   "cell_type": "code",
   "execution_count": 101,
   "metadata": {},
   "outputs": [
    {
     "name": "stdout",
     "output_type": "stream",
     "text": [
      "torch.Size([3, 5, 10])\n"
     ]
    }
   ],
   "source": [
    "dummy_img_l = torch.arange(3*5*10).reshape(3, 5, 10)\n",
    "dummy_lbl = torch.ones_like(dummy_img_l)\n",
    "dummy_img_u = 5*torch.arange(3*5*10).reshape(3, 5, 10)\n",
    "print(dummy_img_u.size())"
   ]
  },
  {
   "cell_type": "code",
   "execution_count": 102,
   "metadata": {},
   "outputs": [],
   "source": [
    "input_dic = check_inputs(dummy_img_l, dummy_lbl)"
   ]
  },
  {
   "cell_type": "code",
   "execution_count": 103,
   "metadata": {},
   "outputs": [
    {
     "data": {
      "text/plain": [
       "tensor([[[[1, 1, 1, 1, 1, 1, 1, 1, 1, 1],\n",
       "          [1, 1, 1, 1, 1, 1, 1, 1, 1, 1],\n",
       "          [1, 1, 1, 1, 1, 1, 1, 1, 1, 1],\n",
       "          [1, 1, 1, 1, 1, 1, 1, 1, 1, 1],\n",
       "          [1, 1, 1, 1, 1, 1, 1, 1, 1, 1]]],\n",
       "\n",
       "\n",
       "        [[[1, 1, 1, 1, 1, 1, 1, 1, 1, 1],\n",
       "          [1, 1, 1, 1, 1, 1, 1, 1, 1, 1],\n",
       "          [1, 1, 1, 1, 1, 1, 1, 1, 1, 1],\n",
       "          [1, 1, 1, 1, 1, 1, 1, 1, 1, 1],\n",
       "          [1, 1, 1, 1, 1, 1, 1, 1, 1, 1]]],\n",
       "\n",
       "\n",
       "        [[[1, 1, 1, 1, 1, 1, 1, 1, 1, 1],\n",
       "          [1, 1, 1, 1, 1, 1, 1, 1, 1, 1],\n",
       "          [1, 1, 1, 1, 1, 1, 1, 1, 1, 1],\n",
       "          [1, 1, 1, 1, 1, 1, 1, 1, 1, 1],\n",
       "          [1, 1, 1, 1, 1, 1, 1, 1, 1, 1]]]])"
      ]
     },
     "execution_count": 103,
     "metadata": {},
     "output_type": "execute_result"
    }
   ],
   "source": [
    "input_dic.get('lbl')"
   ]
  },
  {
   "cell_type": "code",
   "execution_count": 104,
   "metadata": {},
   "outputs": [],
   "source": [
    "full_input_dic = check_inputs(dummy_img_l, dummy_lbl, dummy_img_u)"
   ]
  },
  {
   "cell_type": "code",
   "execution_count": 105,
   "metadata": {},
   "outputs": [
    {
     "data": {
      "text/plain": [
       "tensor([[[[  0,   5,  10,  15,  20,  25,  30,  35,  40,  45],\n",
       "          [ 50,  55,  60,  65,  70,  75,  80,  85,  90,  95],\n",
       "          [100, 105, 110, 115, 120, 125, 130, 135, 140, 145],\n",
       "          [150, 155, 160, 165, 170, 175, 180, 185, 190, 195],\n",
       "          [200, 205, 210, 215, 220, 225, 230, 235, 240, 245]]],\n",
       "\n",
       "\n",
       "        [[[250, 255, 260, 265, 270, 275, 280, 285, 290, 295],\n",
       "          [300, 305, 310, 315, 320, 325, 330, 335, 340, 345],\n",
       "          [350, 355, 360, 365, 370, 375, 380, 385, 390, 395],\n",
       "          [400, 405, 410, 415, 420, 425, 430, 435, 440, 445],\n",
       "          [450, 455, 460, 465, 470, 475, 480, 485, 490, 495]]],\n",
       "\n",
       "\n",
       "        [[[500, 505, 510, 515, 520, 525, 530, 535, 540, 545],\n",
       "          [550, 555, 560, 565, 570, 575, 580, 585, 590, 595],\n",
       "          [600, 605, 610, 615, 620, 625, 630, 635, 640, 645],\n",
       "          [650, 655, 660, 665, 670, 675, 680, 685, 690, 695],\n",
       "          [700, 705, 710, 715, 720, 725, 730, 735, 740, 745]]]])"
      ]
     },
     "execution_count": 105,
     "metadata": {},
     "output_type": "execute_result"
    }
   ],
   "source": [
    "full_input_dic.get('img_u')"
   ]
  },
  {
   "cell_type": "code",
   "execution_count": 88,
   "metadata": {},
   "outputs": [
    {
     "data": {
      "text/plain": [
       "{'img_l': tensor([[[[  0,   1,   2,   3,   4,   5,   6,   7,   8,   9],\n",
       "           [ 10,  11,  12,  13,  14,  15,  16,  17,  18,  19],\n",
       "           [ 20,  21,  22,  23,  24,  25,  26,  27,  28,  29],\n",
       "           [ 30,  31,  32,  33,  34,  35,  36,  37,  38,  39],\n",
       "           [ 40,  41,  42,  43,  44,  45,  46,  47,  48,  49]]],\n",
       " \n",
       " \n",
       "         [[[ 50,  51,  52,  53,  54,  55,  56,  57,  58,  59],\n",
       "           [ 60,  61,  62,  63,  64,  65,  66,  67,  68,  69],\n",
       "           [ 70,  71,  72,  73,  74,  75,  76,  77,  78,  79],\n",
       "           [ 80,  81,  82,  83,  84,  85,  86,  87,  88,  89],\n",
       "           [ 90,  91,  92,  93,  94,  95,  96,  97,  98,  99]]],\n",
       " \n",
       " \n",
       "         [[[100, 101, 102, 103, 104, 105, 106, 107, 108, 109],\n",
       "           [110, 111, 112, 113, 114, 115, 116, 117, 118, 119],\n",
       "           [120, 121, 122, 123, 124, 125, 126, 127, 128, 129],\n",
       "           [130, 131, 132, 133, 134, 135, 136, 137, 138, 139],\n",
       "           [140, 141, 142, 143, 144, 145, 146, 147, 148, 149]]]]),\n",
       " 'img_u': tensor([[[[  0,   5,  10,  15,  20,  25,  30,  35,  40,  45],\n",
       "           [ 50,  55,  60,  65,  70,  75,  80,  85,  90,  95],\n",
       "           [100, 105, 110, 115, 120, 125, 130, 135, 140, 145],\n",
       "           [150, 155, 160, 165, 170, 175, 180, 185, 190, 195],\n",
       "           [200, 205, 210, 215, 220, 225, 230, 235, 240, 245]]],\n",
       " \n",
       " \n",
       "         [[[250, 255, 260, 265, 270, 275, 280, 285, 290, 295],\n",
       "           [300, 305, 310, 315, 320, 325, 330, 335, 340, 345],\n",
       "           [350, 355, 360, 365, 370, 375, 380, 385, 390, 395],\n",
       "           [400, 405, 410, 415, 420, 425, 430, 435, 440, 445],\n",
       "           [450, 455, 460, 465, 470, 475, 480, 485, 490, 495]]],\n",
       " \n",
       " \n",
       "         [[[500, 505, 510, 515, 520, 525, 530, 535, 540, 545],\n",
       "           [550, 555, 560, 565, 570, 575, 580, 585, 590, 595],\n",
       "           [600, 605, 610, 615, 620, 625, 630, 635, 640, 645],\n",
       "           [650, 655, 660, 665, 670, 675, 680, 685, 690, 695],\n",
       "           [700, 705, 710, 715, 720, 725, 730, 735, 740, 745]]]]),\n",
       " 'lbl': tensor([[[[1, 1, 1, 1, 1, 1, 1, 1, 1, 1],\n",
       "           [1, 1, 1, 1, 1, 1, 1, 1, 1, 1],\n",
       "           [1, 1, 1, 1, 1, 1, 1, 1, 1, 1],\n",
       "           [1, 1, 1, 1, 1, 1, 1, 1, 1, 1],\n",
       "           [1, 1, 1, 1, 1, 1, 1, 1, 1, 1]]],\n",
       " \n",
       " \n",
       "         [[[1, 1, 1, 1, 1, 1, 1, 1, 1, 1],\n",
       "           [1, 1, 1, 1, 1, 1, 1, 1, 1, 1],\n",
       "           [1, 1, 1, 1, 1, 1, 1, 1, 1, 1],\n",
       "           [1, 1, 1, 1, 1, 1, 1, 1, 1, 1],\n",
       "           [1, 1, 1, 1, 1, 1, 1, 1, 1, 1]]],\n",
       " \n",
       " \n",
       "         [[[1, 1, 1, 1, 1, 1, 1, 1, 1, 1],\n",
       "           [1, 1, 1, 1, 1, 1, 1, 1, 1, 1],\n",
       "           [1, 1, 1, 1, 1, 1, 1, 1, 1, 1],\n",
       "           [1, 1, 1, 1, 1, 1, 1, 1, 1, 1],\n",
       "           [1, 1, 1, 1, 1, 1, 1, 1, 1, 1]]]])}"
      ]
     },
     "execution_count": 88,
     "metadata": {},
     "output_type": "execute_result"
    }
   ],
   "source": [
    "full_input_dic"
   ]
  },
  {
   "cell_type": "code",
   "execution_count": null,
   "metadata": {},
   "outputs": [],
   "source": []
  },
  {
   "cell_type": "code",
   "execution_count": null,
   "metadata": {},
   "outputs": [],
   "source": []
  }
 ],
 "metadata": {
  "kernelspec": {
   "display_name": "Python 3",
   "language": "python",
   "name": "python3"
  },
  "language_info": {
   "codemirror_mode": {
    "name": "ipython",
    "version": 3
   },
   "file_extension": ".py",
   "mimetype": "text/x-python",
   "name": "python",
   "nbconvert_exporter": "python",
   "pygments_lexer": "ipython3",
   "version": "3.7.1"
  }
 },
 "nbformat": 4,
 "nbformat_minor": 5
}
