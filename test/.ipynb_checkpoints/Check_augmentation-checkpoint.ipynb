{
 "cells": [
  {
   "cell_type": "code",
   "execution_count": 93,
   "metadata": {},
   "outputs": [],
   "source": [
    "# This is to test different data augmentation techniques we implemented"
   ]
  },
  {
   "cell_type": "code",
   "execution_count": 94,
   "metadata": {},
   "outputs": [],
   "source": [
    "import os\n",
    "import sys\n",
    "import torch \n",
    "import numpy as np\n",
    "\n",
    "import torch\n",
    "import random\n",
    "\n",
    "import numpy as np\n",
    "import scipy.ndimage\n",
    "\n",
    "sys.path.append('..')\n",
    "\n",
    "from libs.Augmentations import *"
   ]
  },
  {
   "cell_type": "code",
   "execution_count": 95,
   "metadata": {},
   "outputs": [],
   "source": [
    "# read the file\n",
    "img_folder = '/home/moucheng/projects_data/Pulmonary_data/carve/3d_binary/R176/C3/D3_S3/N2/labelled/patches'\n",
    "lbl_folder = '/home/moucheng/projects_data/Pulmonary_data/carve/3d_binary/R176/C3/D3_S3/N2/labelled/labels'\n",
    "all_imgs = os.listdir(img_folder)\n",
    "all_imgs = [os.path.join(folder, img) for img in all_imgs]\n",
    "all_imgs.sort()\n",
    "\n",
    "all_lbls = os.listdir(lbl_folder)\n",
    "all_lbls = [os.path.join(lbl_folder, lbl) for lbl in all_lbls]\n",
    "all_lbls.sort()\n",
    "\n",
    "img_no = 2\n",
    "\n",
    "img = all_imgs[img_no]\n",
    "img = np.load(img)\n",
    "img = img[1, :, :]\n",
    "\n",
    "lbl = all_lbls[img_no]\n",
    "lbl = np.load(lbl)\n",
    "lbl = lbl[1, :, :]"
   ]
  },
  {
   "cell_type": "code",
   "execution_count": 96,
   "metadata": {},
   "outputs": [
    {
     "ename": "TypeError",
     "evalue": "RandomForegroundZoom() takes no arguments",
     "output_type": "error",
     "traceback": [
      "\u001b[0;31m---------------------------------------------------------------------------\u001b[0m",
      "\u001b[0;31mTypeError\u001b[0m                                 Traceback (most recent call last)",
      "Input \u001b[0;32mIn [96]\u001b[0m, in \u001b[0;36m<cell line: 2>\u001b[0;34m()\u001b[0m\n\u001b[1;32m      1\u001b[0m \u001b[38;5;66;03m# random zoom in augmentation:\u001b[39;00m\n\u001b[0;32m----> 2\u001b[0m zoom \u001b[38;5;241m=\u001b[39m \u001b[43mAugmentations\u001b[49m\u001b[38;5;241;43m.\u001b[39;49m\u001b[43mRandomForegroundZoom\u001b[49m\u001b[43m(\u001b[49m\u001b[43mzoom_ratio\u001b[49m\u001b[38;5;241;43m=\u001b[39;49m\u001b[38;5;241;43m2\u001b[39;49m\u001b[43m)\u001b[49m\n\u001b[1;32m      3\u001b[0m img_zoomed, lbl_zoomed \u001b[38;5;241m=\u001b[39m zoom\u001b[38;5;241m.\u001b[39mforward(img, lbl)\n",
      "\u001b[0;31mTypeError\u001b[0m: RandomForegroundZoom() takes no arguments"
     ]
    }
   ],
   "source": [
    "# random zoom in augmentation:\n",
    "zoom = Augmentations.RandomForegroundZoom(zoom_ratio=2)\n",
    "img_zoomed, lbl_zoomed = zoom.forward(img, lbl)"
   ]
  },
  {
   "cell_type": "code",
   "execution_count": null,
   "metadata": {},
   "outputs": [],
   "source": []
  },
  {
   "cell_type": "code",
   "execution_count": null,
   "metadata": {},
   "outputs": [],
   "source": []
  }
 ],
 "metadata": {
  "kernelspec": {
   "display_name": "Python 3 (ipykernel)",
   "language": "python",
   "name": "python3"
  },
  "language_info": {
   "codemirror_mode": {
    "name": "ipython",
    "version": 3
   },
   "file_extension": ".py",
   "mimetype": "text/x-python",
   "name": "python",
   "nbconvert_exporter": "python",
   "pygments_lexer": "ipython3",
   "version": "3.9.10"
  }
 },
 "nbformat": 4,
 "nbformat_minor": 2
}
